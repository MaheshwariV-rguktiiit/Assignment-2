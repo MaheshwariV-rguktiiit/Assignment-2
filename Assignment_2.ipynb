{
  "nbformat": 4,
  "nbformat_minor": 0,
  "metadata": {
    "colab": {
      "name": "Assignment-2.ipynb",
      "provenance": [],
      "collapsed_sections": []
    },
    "kernelspec": {
      "name": "python3",
      "display_name": "Python 3"
    }
  },
  "cells": [
    {
      "cell_type": "markdown",
      "metadata": {
        "id": "LrwT0TJM3yqP",
        "colab_type": "text"
      },
      "source": [
        "## **Task - 1**"
      ]
    },
    {
      "cell_type": "markdown",
      "metadata": {
        "id": "lPzFzBvu29rn",
        "colab_type": "text"
      },
      "source": [
        "1.1 \n",
        "\n",
        "Write a Python program to implement your own myfilter() function which works exactly like Python's built-in function filter()"
      ]
    },
    {
      "cell_type": "code",
      "metadata": {
        "id": "VpsLo0JgyzsW",
        "colab_type": "code",
        "outputId": "4b8e02a0-dbfd-4015-913f-c92e68f256bd",
        "colab": {
          "base_uri": "https://localhost:8080/",
          "height": 134
        }
      },
      "source": [
        "import operator\n",
        "import functools\n",
        "lis = [1, 3, 5, 7, 9, 11, 15, 23, 67, 89, 91]\n",
        "def myreduce(fnc, seq):\n",
        "\ttally = seq[0]\n",
        "\tfor next in seq[1:]:\n",
        "\t\ttally = fnc(tally, next)\n",
        "\treturn tally\n",
        "print (\"The sum of the list elements is : \",end=\"\") \n",
        "print (myreduce(lambda m,n : m+n,lis)) \n",
        "print (\"The maximum element of the list is : \",end=\"\") \n",
        "print (functools.reduce(lambda m,n : m if m > n else n,lis)) \n",
        "print (\"The division of the list elements is : \",end=\"\") \n",
        "print (myreduce(lambda m,n : m/n,lis)) \n",
        "print (\"The multiplication of the list elements is : \",end=\"\") \n",
        "print (myreduce(lambda m,n : m*n,lis)) \n",
        "print (\"The sum of the list elements is : \",end=\"\") \n",
        "print (myreduce(operator.add,lis))\n",
        "print (\"The product of list elements is : \",end=\"\") \n",
        "print (myreduce(operator.mul,lis)) \n",
        "print (\"The concatenated product is : \",end=\"\") \n",
        "print (myreduce(operator.add,[\"Maheshwari\",\"Vadla\",\"@AIML\"])) "
      ],
      "execution_count": 74,
      "outputs": [
        {
          "output_type": "stream",
          "text": [
            "The sum of the list elements is : 321\n",
            "The maximum element of the list is : 91\n",
            "The division of the list elements is : 5.138663858464255e-13\n",
            "The multiplication of the list elements is : 1946031162075\n",
            "The sum of the list elements is : 321\n",
            "The product of list elements is : 1946031162075\n",
            "The concatenated product is : MaheshwariVadla@AIML\n"
          ],
          "name": "stdout"
        }
      ]
    },
    {
      "cell_type": "markdown",
      "metadata": {
        "id": "hrkYhjw442gp",
        "colab_type": "text"
      },
      "source": [
        "1.2  \n",
        " \n",
        "Write a Python program to implement your own myfilter() function which works exactly like Python's built-in function filter() \n",
        " "
      ]
    },
    {
      "cell_type": "code",
      "metadata": {
        "id": "ITB6axye43sh",
        "colab_type": "code",
        "outputId": "9d5be6dc-b817-4e7b-8d35-9b9c07c7137c",
        "colab": {
          "base_uri": "https://localhost:8080/",
          "height": 50
        }
      },
      "source": [
        "# Custom filter function \n",
        "\n",
        "def myfilter(func, my_list):\n",
        "  listresult = []# iterate over sequence of items in sequence and apply filter function\n",
        "  for item in my_list:\n",
        "    if func(item):\n",
        "      listresult.append(item)\n",
        "  return listresult\n",
        "\n",
        "def ispositive(x):\n",
        " if (x <= 0): \n",
        "  return False \n",
        " else: \n",
        "  return True\n",
        "def fun(variable): \n",
        "    letters = ['a', 'e', 'i', 'o', 'u'] \n",
        "    if (variable in letters): \n",
        "        return True\n",
        "    else: \n",
        "        return False\n",
        "  \n",
        "\n",
        "print (\"Filter only positive Integers on list [0,1,-2,3,4,5] using custom filter function\" , str(myfilter(ispositive, [0,1,-2,3,4,5])))\n",
        "print(\"Filter only divisibleby 2  Integers on list [2,7,9,0,8] using custom filter function\",myfilter(lambda x: x % 2==0,[2,7,9,0,8]) )"
      ],
      "execution_count": 64,
      "outputs": [
        {
          "output_type": "stream",
          "text": [
            "Filter only positive Integers on list [0,1,-2,3,4,5] using custom filter function [1, 3, 4, 5]\n",
            "Filter only divisibleby 2  Integers on list [2,7,9,0,8] using custom filter function [2, 0, 8]\n"
          ],
          "name": "stdout"
        }
      ]
    },
    {
      "cell_type": "markdown",
      "metadata": {
        "id": "qUQlSdzULh6h",
        "colab_type": "text"
      },
      "source": [
        "2.Implement List comprehensions to produce the following lists. Write List comprehensions to produce the following Lists \n",
        " \n",
        "['A', 'C', 'A', 'D', 'G', 'I', ’L’, ‘ D’] \n",
        " \n",
        "['x', 'xx', 'xxx', 'xxxx', 'y', 'yy', 'yyy', 'yyyy', 'z', 'zz', 'zzz', 'zzzz'] \n",
        " \n",
        "['x', 'y', 'z', 'xx', 'yy', 'zz', 'xx', 'yy', 'zz', 'xxxx', 'yyyy', 'zzzz'] \n",
        " \n",
        "[[2], [3], [4], [3], [4], [5], [4], [5], [6]] \n",
        " \n",
        "[[2, 3, 4, 5], [3, 4, 5, 6], [4, 5, 6, 7], [5, 6, 7, 8]] \n",
        " \n",
        "[(1, 1), (2, 1), (3, 1), (1, 2), (2, 2), (3, 2), (1, 3), (2, 3), (3, 3)] \n",
        " \n",
        " "
      ]
    },
    {
      "cell_type": "code",
      "metadata": {
        "id": "wTm8bFXaJvGO",
        "colab_type": "code",
        "outputId": "3d0b6137-86ba-4571-a785-d93b2c0f5dd7",
        "colab": {
          "base_uri": "https://localhost:8080/",
          "height": 117
        }
      },
      "source": [
        "input_word = \"ACADGILD\"\n",
        "alphabets_list = [ alphabets for alphabets in input_word ]\n",
        "print (\"ACADGILD : \" + str(alphabets_list))\n",
        "\n",
        "input_list = ['x','y','z']\n",
        "result = [ item*num for item in input_list for num in range(1,5)  ]\n",
        "print(\"['x','y','z'] : \" +   str(result))\n",
        "\n",
        "input_list = ['x','y','z']\n",
        "result = [ item*num for num in range(1,5) for item in input_list  ]\n",
        "print(\"['x','y','z'] : \" +   str(result))\n",
        "\n",
        "input_list = [2,3,4]\n",
        "result = [ [item+num] for item in input_list for num in range(0,3)]\n",
        "print(\"[2,3,4] :\" +  str(result))\n",
        "\n",
        "\n",
        "input_list = [2,3,4,5]\n",
        "result = [ [item+num for item in input_list] for num in range(0,4)  ]\n",
        "print(\"[2,3,4,5] :\" +  str(result))\n",
        "\n",
        "\n",
        "input_list=[1,2,3]\n",
        "result = [ (b,a) for a in input_list for b in input_list]\n",
        "print(\"[1,2,3] :\" +  str(result))\n"
      ],
      "execution_count": 65,
      "outputs": [
        {
          "output_type": "stream",
          "text": [
            "ACADGILD : ['A', 'C', 'A', 'D', 'G', 'I', 'L', 'D']\n",
            "['x','y','z'] : ['x', 'xx', 'xxx', 'xxxx', 'y', 'yy', 'yyy', 'yyyy', 'z', 'zz', 'zzz', 'zzzz']\n",
            "['x','y','z'] : ['x', 'y', 'z', 'xx', 'yy', 'zz', 'xxx', 'yyy', 'zzz', 'xxxx', 'yyyy', 'zzzz']\n",
            "[2,3,4] :[[2], [3], [4], [3], [4], [5], [4], [5], [6]]\n",
            "[2,3,4,5] :[[2, 3, 4, 5], [3, 4, 5, 6], [4, 5, 6, 7], [5, 6, 7, 8]]\n",
            "[1,2,3] :[(1, 1), (2, 1), (3, 1), (1, 2), (2, 2), (3, 2), (1, 3), (2, 3), (3, 3)]\n"
          ],
          "name": "stdout"
        }
      ]
    },
    {
      "cell_type": "markdown",
      "metadata": {
        "id": "ymbKyNYeMh5I",
        "colab_type": "text"
      },
      "source": [
        "### 3. Implement a function longestWord() that takes a list of words and returns the longest one.  "
      ]
    },
    {
      "cell_type": "code",
      "metadata": {
        "id": "pe4nXzb8Mhh6",
        "colab_type": "code",
        "outputId": "e2e7783f-3059-4d40-c298-6aab74fb7dee",
        "colab": {
          "base_uri": "https://localhost:8080/",
          "height": 50
        }
      },
      "source": [
        "def find_longest_word(words_list):\n",
        "    word_len = []\n",
        "    for n in words_list:\n",
        "        word_len.append((len(n), n))\n",
        "    word_len.sort()\n",
        "    return word_len[-1][1]\n",
        "\n",
        "print(\"longest words string in list ['ineourn', 'maheshwari', 'vadla']   : \",find_longest_word([\"ineourn\", \"maheshwari\", \"vadla\"]))\n",
        "print('longest words in srings in list[\"Machine learning\",\"Deep learning\",\"Artificial intelligence\"]   :',find_longest_word([\"Machine learning\",\"Deep learning\",\"Artificial intelligence\"]))"
      ],
      "execution_count": 66,
      "outputs": [
        {
          "output_type": "stream",
          "text": [
            "longest words string in list ['ineourn', 'maheshwari', 'vadla']   :  maheshwari\n",
            "longest words in srings in list[\"Machine learning\",\"Deep learning\",\"Artificial intelligence\"]   : Artificial intelligence\n"
          ],
          "name": "stdout"
        }
      ]
    },
    {
      "cell_type": "markdown",
      "metadata": {
        "id": "hxh4AR5BOVn3",
        "colab_type": "text"
      },
      "source": [
        "## **Task 2:** \n"
      ]
    },
    {
      "cell_type": "markdown",
      "metadata": {
        "id": "dCOKwInYOf_T",
        "colab_type": "text"
      },
      "source": [
        "1.1  \n",
        " \n",
        "Write a Python Program(with class concepts) to find the area of the triangle using the below formula. \n",
        " \n",
        "area = (s*(s-a)*(s-b)*(s-c)) ** 0.5 \n",
        " \n",
        "Function to take the length of the sides of triangle from user should be defined in the parent class and function to calculate the area should be defined in subclass. "
      ]
    },
    {
      "cell_type": "code",
      "metadata": {
        "id": "B6mpwdKmOj3Y",
        "colab_type": "code",
        "outputId": "ccfd5a1e-32ef-4f08-b4c0-dc585e3d0f34",
        "colab": {
          "base_uri": "https://localhost:8080/",
          "height": 84
        }
      },
      "source": [
        "class Triangle:\n",
        "\n",
        "    def __init__(self, a, b, c):\n",
        "        \n",
        "        self.a = float(a)\n",
        "        self.b = float(b)\n",
        "        self.c = float(c)\n",
        "       \n",
        "    def area(self):\n",
        "        \n",
        "        s = (self.a+self.b+self.c) / 2\n",
        "        area = float(round((s*(s-self.a)*(s-self.b)*(s-self.c))**0.5, 2))\n",
        "        return area\n",
        "\n",
        "side1 = float(input(\"Enter length of first side : \"))\n",
        "side2 = float(input(\"Enter length of second side : \"))\n",
        "side3 = float(input(\"Enter length of third side : \"))\n",
        "t1 = Triangle(side1,side2,side3)\n",
        "print('area = ', t1.area())"
      ],
      "execution_count": 67,
      "outputs": [
        {
          "output_type": "stream",
          "text": [
            "Enter length of first side : 3\n",
            "Enter length of second side : 4\n",
            "Enter length of third side : 4\n",
            "area =  5.56\n"
          ],
          "name": "stdout"
        }
      ]
    },
    {
      "cell_type": "markdown",
      "metadata": {
        "id": "u6ywBiPdRmP9",
        "colab_type": "text"
      },
      "source": [
        "1.2 \n",
        " \n",
        "Write a function filter_long_words() that takes a list of words and an integer n and returns the list of words that are longer than n. "
      ]
    },
    {
      "cell_type": "code",
      "metadata": {
        "id": "mpM6yUF3RlYp",
        "colab_type": "code",
        "colab": {
          "base_uri": "https://localhost:8080/",
          "height": 67
        },
        "outputId": "f4e8339b-1d48-455a-f154-08a56492ef91"
      },
      "source": [
        "def filter_long_words(list_words,length_n):\n",
        "    words=[]\n",
        "    for j in list_words:\n",
        "        if(len(j)>=length_n):\n",
        "            words.append(j)\n",
        "    return words\n",
        "list_words=input(\"Enter words:\")\n",
        "list_words=list_words.split(\",\")\n",
        "length_n=input(\"Enter Min Length:\")\n",
        "filtered_n_long_words=filter_long_words(list_words,int(length_n))\n",
        "\n",
        "print(\"Words with at least min length:\",filtered_n_long_words)"
      ],
      "execution_count": 75,
      "outputs": [
        {
          "output_type": "stream",
          "text": [
            "Enter words:LinearRegression,KNN,KMean,Logistic,DecisionTree,Logistic,OLS,R2,adjustedr2\n",
            "Enter Min Length:6\n",
            "Words with at least min length: ['LinearRegression', 'Logistic', 'DecisionTree', 'Logistic', 'adjustedr2']\n"
          ],
          "name": "stdout"
        }
      ]
    },
    {
      "cell_type": "markdown",
      "metadata": {
        "id": "IOd7g-Rbh44v",
        "colab_type": "text"
      },
      "source": [
        "2.1 \n",
        " \n",
        "Write a Python program using function concept that maps  list of words into a list of integers representing the lengths of the corresponding words​. \n",
        "\n",
        " Hint: ​If a list [ ab,cde,erty] is passed on to the python function output should come as [2,3,4] \n",
        " Here 2,3 and 4 are the lengths of the words in the list. "
      ]
    },
    {
      "cell_type": "code",
      "metadata": {
        "id": "S96pmAk3dPXu",
        "colab_type": "code",
        "colab": {
          "base_uri": "https://localhost:8080/",
          "height": 50
        },
        "outputId": "cb6f6778-5fef-4155-daf3-b59d4000311f"
      },
      "source": [
        "def map_to_lengths_for(words):\n",
        "    lengths = []\n",
        "    for word in words:\n",
        "        lengths.append(len(word))\n",
        "    return lengths\n",
        "def map_to_lengths_lists(words):\n",
        "    return [len(word) for word in words]\n",
        "\n",
        "\n",
        "if __name__ == \"__main__\":\n",
        "    words = ['ab', 'cde', 'erty']\n",
        "    words1=[\"knn\",\"kmean\",\"svm\"]\n",
        "    print(\"List passed is\",words ,\"=>\" , map_to_lengths_for(words))\n",
        "    print(\"List passed is\",words ,\"=>\" ,map_to_lengths_lists(words1))"
      ],
      "execution_count": 92,
      "outputs": [
        {
          "output_type": "stream",
          "text": [
            "List passed is ['ab', 'cde', 'erty'] => [2, 3, 4]\n",
            "List passed is ['ab', 'cde', 'erty'] => [3, 5, 3]\n"
          ],
          "name": "stdout"
        }
      ]
    },
    {
      "cell_type": "markdown",
      "metadata": {
        "id": "PqwrxqnThe43",
        "colab_type": "text"
      },
      "source": [
        "2.2 \n",
        " \n",
        "Write a Python function which takes a character (i.e. a string of length 1) and returns True if it is a vowel, False otherwise.\n",
        " \n",
        " "
      ]
    },
    {
      "cell_type": "code",
      "metadata": {
        "id": "OyHWbJS3e-mN",
        "colab_type": "code",
        "colab": {
          "base_uri": "https://localhost:8080/",
          "height": 100
        },
        "outputId": "03736c83-1b6c-43bc-a97a-bb349863bb45"
      },
      "source": [
        "\n",
        "def vowelOrConsonant(x): \n",
        "\n",
        "\tif (x == 'a' or x == 'e' or\n",
        "\t\tx == 'i' or x == 'o' or x == 'u'): \n",
        "\t\tprint(\"True\") \n",
        "\telse: \n",
        "\t\tprint(\"False\") \n",
        "vowelOrConsonant('c') \n",
        "vowelOrConsonant('ei')\n",
        "vowelOrConsonant(\"a\")\n",
        "vowelOrConsonant(\"u\")\n",
        "vowelOrConsonant(\"oi\")\n",
        "\t\n"
      ],
      "execution_count": 133,
      "outputs": [
        {
          "output_type": "stream",
          "text": [
            "False\n",
            "False\n",
            "True\n",
            "True\n",
            "False\n"
          ],
          "name": "stdout"
        }
      ]
    }
  ]
}